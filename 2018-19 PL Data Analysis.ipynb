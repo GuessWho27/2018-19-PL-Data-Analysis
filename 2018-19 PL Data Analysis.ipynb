{
 "cells": [
  {
   "cell_type": "code",
   "execution_count": 72,
   "metadata": {},
   "outputs": [],
   "source": [
    "# importing the modules I need\n",
    "\n",
    "import pandas as pd\n",
    "import matplotlib.pyplot as plt\n",
    "from matplotlib import style\n",
    "\n",
    "# importing the data, indexing by Date for now\n",
    "\n",
    "df = pd.read_csv(\"soccer18-19.csv\", index_col=\"Date\")\n"
   ]
  },
  {
   "attachments": {},
   "cell_type": "markdown",
   "metadata": {},
   "source": [
    "Column\t    Explanation\n",
    "Div\t        Division the game was played in\n",
    "Date\t    The date the game was played\n",
    "HomeTeam\tThe home team\n",
    "AwayTeam\tThe away team\n",
    "FTHG\t    Full time home goals\n",
    "FTAG\t    Full time away goals\n",
    "FTR\t        Full time lead (win rate)\n",
    "HTHG\t    Half time home goals\n",
    "HTAG\t    Half time away goals\n",
    "HTR\t        Half time lead\n",
    "Referee\t    The referee of the game\n",
    "HS\t        Number of shots taken by home team\n",
    "AS\t        Number of shots taken by away team\n",
    "HST\t        Number of shots taken by home team on target\n",
    "AST\t        Number of shots taken by away team on target\n",
    "HF\t        Number of fouls made by home team\n",
    "AF\t        Number of fouls made by away team\n",
    "HC\t        Number of corners taken by home team\n",
    "AC\t        Number of corners taken by away team\n",
    "HY\t        Number of yellow cards received by home team\n",
    "AY\t        Number of yellow cards received by away team\n",
    "HR\t        Number of red cards received by home team\n",
    "AR\t        Number of red cards received by away team"
   ]
  },
  {
   "attachments": {},
   "cell_type": "markdown",
   "metadata": {},
   "source": [
    "This dataset will try to establish correlations between home/away team statistics and the win rate."
   ]
  },
  {
   "cell_type": "code",
   "execution_count": 73,
   "metadata": {},
   "outputs": [
    {
     "name": "stdout",
     "output_type": "stream",
     "text": [
      "          H    A   D\n",
      "Result  181  128  71\n"
     ]
    },
    {
     "data": {
      "text/plain": [
       "<AxesSubplot: >"
      ]
     },
     "execution_count": 73,
     "metadata": {},
     "output_type": "execute_result"
    },
    {
     "data": {
      "image/png": "[encoded data removed]",
      "text/plain": [
       "<Figure size 432x288 with 1 Axes>"
      ]
     },
     "metadata": {
      "needs_background": "light"
     },
     "output_type": "display_data"
    }
   ],
   "source": [
    "# calculating and visualizing the home/away win ratio\n",
    "\n",
    "wins_data = df.FTR.value_counts()\n",
    "wins_data = wins_data.to_frame(name=\"Result\")\n",
    "wins_data = wins_data.transpose()\n",
    "\n",
    "print(wins_data)\n",
    "\n",
    "wins_data.plot.bar(color=['green',\"red\",\"blue\"])\n"
   ]
  },
  {
   "cell_type": "code",
   "execution_count": 74,
   "metadata": {},
   "outputs": [],
   "source": [
    "home_wins = wins_data['H']\n",
    "away_wins = wins_data['A']\n",
    "draws = wins_data['D']"
   ]
  },
  {
   "cell_type": "code",
   "execution_count": null,
   "metadata": {},
   "outputs": [],
   "source": [
    "#new code"
   ]
  }
 ],
 "metadata": {
  "kernelspec": {
   "display_name": "Python 3",
   "language": "python",
   "name": "python3"
  },
  "language_info": {
   "codemirror_mode": {
    "name": "ipython",
    "version": 3
   },
   "file_extension": ".py",
   "mimetype": "text/x-python",
   "name": "python",
   "nbconvert_exporter": "python",
   "pygments_lexer": "ipython3",
   "version": "3.10.11"
  },
  "orig_nbformat": 4,
  "vscode": {
   "interpreter": {
    "hash": "34f7a929b985422477fa360b77820d3c5d358620343454d073bf824f7796610f"
   }
  }
 },
 "nbformat": 4,
 "nbformat_minor": 2
}
